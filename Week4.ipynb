{
 "cells": [
  {
   "cell_type": "markdown",
   "metadata": {},
   "source": [
    "# Week 4 numpy"
   ]
  },
  {
   "cell_type": "code",
   "execution_count": 1,
   "metadata": {
    "collapsed": true
   },
   "outputs": [],
   "source": [
    "import numpy as np"
   ]
  },
  {
   "cell_type": "code",
   "execution_count": 2,
   "metadata": {
    "collapsed": false
   },
   "outputs": [
    {
     "name": "stdout",
     "output_type": "stream",
     "text": [
      "<class 'numpy.ndarray'>\n"
     ]
    }
   ],
   "source": [
    "# Create list baseball\n",
    "baseball = [180, 215, 210, 210, 188, 176, 209, 200]\n",
    "\n",
    "# Import the numpy package as np\n",
    "import numpy as np\n",
    "\n",
    "# Create a Numpy array from baseball: np_baseball\n",
    "np_baseball = np.array(baseball)\n",
    "\n",
    "# Print out type of np_baseball\n",
    "print(type(np_baseball))"
   ]
  },
  {
   "cell_type": "code",
   "execution_count": 7,
   "metadata": {
    "collapsed": false
   },
   "outputs": [
    {
     "name": "stdout",
     "output_type": "stream",
     "text": [
      "[74 74 78 73]\n",
      "[ 1.8796  1.8796  1.9812  1.8542]\n"
     ]
    }
   ],
   "source": [
    "# height is available as a regular list\n",
    "height = [74,74,78,73]\n",
    "\n",
    "# Import numpy\n",
    "import numpy as np\n",
    "\n",
    "# Create a Numpy array from height: np_height\n",
    "np_height = np.array(height)\n",
    "\n",
    "# Print out np_height\n",
    "print(np_height)\n",
    "\n",
    "# Convert np_height to m: np_height_m\n",
    "np_height_m = np_height * 0.0254\n",
    "\n",
    "# Print np_height_m\n",
    "print(np_height_m)"
   ]
  },
  {
   "cell_type": "code",
   "execution_count": 11,
   "metadata": {
    "collapsed": false
   },
   "outputs": [
    {
     "name": "stdout",
     "output_type": "stream",
     "text": [
      "[ 16.69082739  15.40691759  20.80085817  20.05376036]\n"
     ]
    }
   ],
   "source": [
    "# height and weight are available as a regular lists\n",
    "weight = [130, 120, 180, 152]\n",
    "\n",
    "# Import numpy\n",
    "import numpy as np\n",
    "\n",
    "# Create array from height with correct units: np_height_m\n",
    "np_height_m = np.array(height) * 0.0254\n",
    "\n",
    "# Create array from weight with correct units: np_weight_kg\n",
    "np_weight_kg = np.array(weight) * 0.453592 \n",
    "\n",
    "# Calculate the BMI: bmi\n",
    "bmi = np_weight_kg / (np_height_m ** 2)\n",
    "\n",
    "# Print out bmi\n",
    "print (bmi)"
   ]
  },
  {
   "cell_type": "code",
   "execution_count": 14,
   "metadata": {
    "collapsed": false
   },
   "outputs": [
    {
     "name": "stdout",
     "output_type": "stream",
     "text": [
      "[ True  True  True  True]\n",
      "[ 16.69082739  15.40691759  20.80085817  20.05376036]\n"
     ]
    }
   ],
   "source": [
    "# height and weight are available as a regular lists\n",
    "\n",
    "# Import numpy\n",
    "import numpy as np\n",
    "\n",
    "# Calculate the BMI: bmi\n",
    "np_height_m = np.array(height) * 0.0254\n",
    "np_weight_kg = np.array(weight) * 0.453592\n",
    "bmi = np_weight_kg / np_height_m ** 2\n",
    "\n",
    "# Create the light array\n",
    "light = bmi < 21\n",
    "\n",
    "# Print out light\n",
    "print (light)\n",
    "\n",
    "# Print out BMIs of all baseball players whose BMI is below 21\n",
    "print (bmi[light])\n"
   ]
  },
  {
   "cell_type": "code",
   "execution_count": null,
   "metadata": {
    "collapsed": true
   },
   "outputs": [],
   "source": []
  }
 ],
 "metadata": {
  "kernelspec": {
   "display_name": "Python 3",
   "language": "python",
   "name": "python3"
  },
  "language_info": {
   "codemirror_mode": {
    "name": "ipython",
    "version": 3
   },
   "file_extension": ".py",
   "mimetype": "text/x-python",
   "name": "python",
   "nbconvert_exporter": "python",
   "pygments_lexer": "ipython3",
   "version": "3.6.0"
  }
 },
 "nbformat": 4,
 "nbformat_minor": 2
}
